{
 "cells": [
  {
   "cell_type": "code",
   "execution_count": 1,
   "metadata": {
    "collapsed": false
   },
   "outputs": [],
   "source": [
    "import tensorflow as tf\n",
    "import numpy as np\n",
    "import pandas as pd\n",
    "import sklearn\n",
    "import os\n",
    "import sys\n",
    "import time\n",
    "import matplotlib as mpl\n",
    "import matplotlib.pyplot as plt\n",
    "%matplotlib inline\n",
    "\n",
    "from tensorflow import keras\n",
    "# print(tf.__version__)\n",
    "# print(sys.version_info)\n",
    "# for module in mpl,np,pd,sklearn,tf,keras:\n",
    "#     print(module.__name__, module.__version__)"
   ]
  },
  {
   "cell_type": "code",
   "execution_count": 2,
   "metadata": {
    "collapsed": false
   },
   "outputs": [
    {
     "name": "stdout",
     "output_type": "stream",
     "text": [
      "(5000, 28, 28) (5000,)\n",
      "(55000, 28, 28) (55000,)\n",
      "(10000, 28, 28) (10000,)\n"
     ]
    }
   ],
   "source": [
    "fashion_minist = keras.datasets.fashion_mnist\n",
    "(x_train_all, y_train_all), (x_test, y_test) = fashion_minist.load_data()\n",
    "x_vaild, x_train = x_train_all[:5000], x_train_all[5000:]\n",
    "y_vaild, y_train = y_train_all[:5000], y_train_all[5000:]\n",
    "print(x_vaild.shape, y_vaild.shape)\n",
    "print(x_train.shape, y_train.shape)\n",
    "print(x_test.shape, y_test.shape)"
   ]
  },
  {
   "cell_type": "code",
   "execution_count": 3,
   "metadata": {
    "collapsed": false
   },
   "outputs": [],
   "source": [
    "from sklearn.preprocessing import StandardScaler\n",
    "\n",
    "scaler = StandardScaler()\n",
    "x_train = scaler.fit_transform(x_train.astype(np.float32).reshape(-1,1)).reshape(-1,28,28)\n",
    "x_vaild = scaler.fit_transform(x_vaild.astype(np.float32).reshape(-1,1)).reshape(-1,28,28)\n",
    "x_test = scaler.fit_transform(x_test.astype(np.float32).reshape(-1,1)).reshape(-1,28,28)"
   ]
  },
  {
   "cell_type": "code",
   "execution_count": 4,
   "metadata": {
    "collapsed": false
   },
   "outputs": [
    {
     "name": "stdout",
     "output_type": "stream",
     "text": [
      "2.0231433 -0.8105136\n"
     ]
    }
   ],
   "source": [
    "print(np.max(x_train),np.min(x_train))"
   ]
  },
  {
   "cell_type": "code",
   "execution_count": 5,
   "metadata": {
    "collapsed": false
   },
   "outputs": [],
   "source": [
    "# 使用tf.keras.sequential构建模型\n",
    "model = keras.models.Sequential()\n",
    "model.add(keras.layers.Flatten(input_shape=[28,28]))\n",
    "model.add(keras.layers.Dense(300,activation='relu'))\n",
    "model.add(keras.layers.Dense(100,activation='tanh'))\n",
    "model.add(keras.layers.Dense(10,activation='softmax'))\n",
    "\n",
    "model.compile(loss='sparse_categorical_crossentropy',optimizer='sgd',\n",
    "             metrics=['accuracy'])"
   ]
  },
  {
   "cell_type": "code",
   "execution_count": 8,
   "metadata": {
    "collapsed": false
   },
   "outputs": [
    {
     "name": "stdout",
     "output_type": "stream",
     "text": [
      "Train on 55000 samples, validate on 5000 samples\n",
      "Epoch 1/50\n",
      "55000/55000 [==============================] - 8s 149us/sample - loss: 0.5485 - accuracy: 0.8108 - val_loss: 0.4168 - val_accuracy: 0.8550\n",
      "Epoch 2/50\n",
      "55000/55000 [==============================] - 5s 97us/sample - loss: 0.3957 - accuracy: 0.8583 - val_loss: 0.3719 - val_accuracy: 0.8682\n",
      "Epoch 3/50\n",
      "55000/55000 [==============================] - 6s 101us/sample - loss: 0.3566 - accuracy: 0.8729 - val_loss: 0.3543 - val_accuracy: 0.8738\n",
      "Epoch 4/50\n",
      "55000/55000 [==============================] - 5s 95us/sample - loss: 0.3319 - accuracy: 0.8813 - val_loss: 0.3412 - val_accuracy: 0.8748\n",
      "Epoch 5/50\n",
      "55000/55000 [==============================] - 5s 98us/sample - loss: 0.3133 - accuracy: 0.8868 - val_loss: 0.3304 - val_accuracy: 0.8826\n",
      "Epoch 6/50\n",
      "55000/55000 [==============================] - 5s 94us/sample - loss: 0.2977 - accuracy: 0.8927 - val_loss: 0.3200 - val_accuracy: 0.8826\n",
      "Epoch 7/50\n",
      "55000/55000 [==============================] - 5s 94us/sample - loss: 0.2843 - accuracy: 0.8964 - val_loss: 0.3222 - val_accuracy: 0.8880\n",
      "Epoch 8/50\n",
      "55000/55000 [==============================] - 6s 102us/sample - loss: 0.2716 - accuracy: 0.9029 - val_loss: 0.3048 - val_accuracy: 0.8906\n",
      "Epoch 9/50\n",
      "55000/55000 [==============================] - 5s 99us/sample - loss: 0.2613 - accuracy: 0.9062 - val_loss: 0.3010 - val_accuracy: 0.8904\n",
      "Epoch 10/50\n",
      "55000/55000 [==============================] - 5s 95us/sample - loss: 0.2513 - accuracy: 0.9098 - val_loss: 0.2991 - val_accuracy: 0.8912\n",
      "Epoch 11/50\n",
      "55000/55000 [==============================] - 5s 100us/sample - loss: 0.2418 - accuracy: 0.9121 - val_loss: 0.2903 - val_accuracy: 0.8966\n",
      "Epoch 12/50\n",
      "55000/55000 [==============================] - 5s 94us/sample - loss: 0.2329 - accuracy: 0.9163 - val_loss: 0.2892 - val_accuracy: 0.8928\n",
      "Epoch 13/50\n",
      "55000/55000 [==============================] - 5s 95us/sample - loss: 0.2246 - accuracy: 0.9189 - val_loss: 0.3034 - val_accuracy: 0.8892\n",
      "Epoch 14/50\n",
      "55000/55000 [==============================] - 5s 93us/sample - loss: 0.2176 - accuracy: 0.9219 - val_loss: 0.2981 - val_accuracy: 0.8940\n",
      "Epoch 15/50\n",
      "55000/55000 [==============================] - 5s 93us/sample - loss: 0.2100 - accuracy: 0.9246 - val_loss: 0.2905 - val_accuracy: 0.8916\n",
      "Epoch 16/50\n",
      "55000/55000 [==============================] - 5s 94us/sample - loss: 0.2024 - accuracy: 0.9283 - val_loss: 0.2913 - val_accuracy: 0.8956\n",
      "Epoch 17/50\n",
      "55000/55000 [==============================] - 5s 94us/sample - loss: 0.1958 - accuracy: 0.9310 - val_loss: 0.2918 - val_accuracy: 0.8972\n"
     ]
    }
   ],
   "source": [
    "# Tensorboard , earlystopping \n",
    "logdir = './callbacks'\n",
    "if not os.path.exists(logdir):\n",
    "    os.mkdir(logdir)\n",
    "\n",
    "output_model_file = os.path.join(logdir,\"fashion_minist_model.h5\")\n",
    "callbacks = [\n",
    "    keras.callbacks.TensorBoard(logdir),\n",
    "    keras.callbacks.ModelCheckpoint(output_model_file,save_best_only=True),\n",
    "    keras.callbacks.EarlyStopping(patience=5, min_delta = 1e-3)\n",
    "]\n",
    "history = model.fit(x_train,y_train,epochs=50,validation_data=(x_vaild,y_vaild),callbacks = callbacks)"
   ]
  },
  {
   "cell_type": "code",
   "execution_count": null,
   "metadata": {
    "collapsed": false
   },
   "outputs": [],
   "source": [
    "def plot_learning_curves(history):\n",
    "    pd.DataFrame(history.history).plot(figsize = (8, 5))\n",
    "    plt.grid(True)\n",
    "    plt.gca().set_ylim(0, 1)\n",
    "    plt.show()\n",
    "    \n",
    "plot_learning_curves(history)"
   ]
  },
  {
   "cell_type": "code",
   "execution_count": null,
   "metadata": {
    "collapsed": true
   },
   "outputs": [],
   "source": []
  }
 ],
 "metadata": {
  "anaconda-cloud": {},
  "kernelspec": {
   "display_name": "Python [conda env:practices]",
   "language": "python",
   "name": "conda-env-practices-py"
  },
  "language_info": {
   "codemirror_mode": {
    "name": "ipython",
    "version": 3
   },
   "file_extension": ".py",
   "mimetype": "text/x-python",
   "name": "python",
   "nbconvert_exporter": "python",
   "pygments_lexer": "ipython3",
   "version": "3.6.2"
  }
 },
 "nbformat": 4,
 "nbformat_minor": 1
}

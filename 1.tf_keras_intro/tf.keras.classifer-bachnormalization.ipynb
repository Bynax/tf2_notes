{
 "cells": [
  {
   "cell_type": "code",
   "execution_count": 1,
   "metadata": {
    "collapsed": false
   },
   "outputs": [],
   "source": [
    "import tensorflow as tf\n",
    "import numpy as np\n",
    "import pandas as pd\n",
    "import sklearn\n",
    "import os\n",
    "import sys\n",
    "import time\n",
    "import matplotlib as mpl\n",
    "import matplotlib.pyplot as plt\n",
    "%matplotlib inline\n",
    "\n",
    "from tensorflow import keras\n",
    "# print(tf.__version__)\n",
    "# print(sys.version_info)\n",
    "# for module in mpl,np,pd,sklearn,tf,keras:\n",
    "#     print(module.__name__, module.__version__)"
   ]
  },
  {
   "cell_type": "code",
   "execution_count": 3,
   "metadata": {
    "collapsed": false
   },
   "outputs": [
    {
     "name": "stdout",
     "output_type": "stream",
     "text": [
      "(5000, 28, 28) (5000,)\n",
      "(55000, 28, 28) (55000,)\n",
      "(10000, 28, 28) (10000,)\n"
     ]
    }
   ],
   "source": [
    "fashion_minist = keras.datasets.fashion_mnist\n",
    "(x_train_all, y_train_all), (x_test, y_test) = fashion_minist.load_data()\n",
    "x_vaild, x_train = x_train_all[:5000], x_train_all[5000:]\n",
    "y_vaild, y_train = y_train_all[:5000], y_train_all[5000:]\n",
    "print(x_vaild.shape, y_vaild.shape)\n",
    "print(x_train.shape, y_train.shape)\n",
    "print(x_test.shape, y_test.shape)"
   ]
  },
  {
   "cell_type": "code",
   "execution_count": 4,
   "metadata": {
    "collapsed": false
   },
   "outputs": [],
   "source": [
    "from sklearn.preprocessing import StandardScaler\n",
    "\n",
    "scaler = StandardScaler()\n",
    "x_train = scaler.fit_transform(x_train.astype(np.float32).reshape(-1,1)).reshape(-1,28,28)\n",
    "x_vaild = scaler.fit_transform(x_vaild.astype(np.float32).reshape(-1,1)).reshape(-1,28,28)\n",
    "x_test = scaler.fit_transform(x_test.astype(np.float32).reshape(-1,1)).reshape(-1,28,28)"
   ]
  },
  {
   "cell_type": "code",
   "execution_count": 7,
   "metadata": {
    "collapsed": false
   },
   "outputs": [],
   "source": [
    "# 使用tf.keras.sequential构建模型\n",
    "model = keras.models.Sequential()\n",
    "model.add(keras.layers.Flatten(input_shape=[28,28]))\n",
    "for _ in range(9):\n",
    "    model.add(keras.layers.Dense(100,activation='relu'))\n",
    "    model.add(keras.layers.BatchNormalization())\n",
    "    \"\"\"\n",
    "    将匹归一化放在激活函数之前的实现\n",
    "    model.add(keras.layers.Dense(100))\n",
    "    model.add(keras.layers.BatchNormalization())\n",
    "    model.add(keras.layers.Activation('relu))\n",
    "    \"\"\"\n",
    "    \n",
    "model.add(keras.layers.Dense(100,activation='tanh'))\n",
    "model.add(keras.layers.BatchNormalization())\n",
    "model.add(keras.layers.Dense(10,activation='softmax'))\n",
    "\n",
    "model.compile(loss='sparse_categorical_crossentropy',optimizer='sgd',\n",
    "             metrics=['accuracy'])"
   ]
  },
  {
   "cell_type": "code",
   "execution_count": 8,
   "metadata": {
    "collapsed": false
   },
   "outputs": [
    {
     "name": "stdout",
     "output_type": "stream",
     "text": [
      "Model: \"sequential_1\"\n",
      "_________________________________________________________________\n",
      "Layer (type)                 Output Shape              Param #   \n",
      "=================================================================\n",
      "flatten_1 (Flatten)          (None, 784)               0         \n",
      "_________________________________________________________________\n",
      "dense_11 (Dense)             (None, 100)               78500     \n",
      "_________________________________________________________________\n",
      "batch_normalization (BatchNo (None, 100)               400       \n",
      "_________________________________________________________________\n",
      "dense_12 (Dense)             (None, 100)               10100     \n",
      "_________________________________________________________________\n",
      "batch_normalization_1 (Batch (None, 100)               400       \n",
      "_________________________________________________________________\n",
      "dense_13 (Dense)             (None, 100)               10100     \n",
      "_________________________________________________________________\n",
      "batch_normalization_2 (Batch (None, 100)               400       \n",
      "_________________________________________________________________\n",
      "dense_14 (Dense)             (None, 100)               10100     \n",
      "_________________________________________________________________\n",
      "batch_normalization_3 (Batch (None, 100)               400       \n",
      "_________________________________________________________________\n",
      "dense_15 (Dense)             (None, 100)               10100     \n",
      "_________________________________________________________________\n",
      "batch_normalization_4 (Batch (None, 100)               400       \n",
      "_________________________________________________________________\n",
      "dense_16 (Dense)             (None, 100)               10100     \n",
      "_________________________________________________________________\n",
      "batch_normalization_5 (Batch (None, 100)               400       \n",
      "_________________________________________________________________\n",
      "dense_17 (Dense)             (None, 100)               10100     \n",
      "_________________________________________________________________\n",
      "batch_normalization_6 (Batch (None, 100)               400       \n",
      "_________________________________________________________________\n",
      "dense_18 (Dense)             (None, 100)               10100     \n",
      "_________________________________________________________________\n",
      "batch_normalization_7 (Batch (None, 100)               400       \n",
      "_________________________________________________________________\n",
      "dense_19 (Dense)             (None, 100)               10100     \n",
      "_________________________________________________________________\n",
      "batch_normalization_8 (Batch (None, 100)               400       \n",
      "_________________________________________________________________\n",
      "dense_20 (Dense)             (None, 100)               10100     \n",
      "_________________________________________________________________\n",
      "batch_normalization_9 (Batch (None, 100)               400       \n",
      "_________________________________________________________________\n",
      "dense_21 (Dense)             (None, 10)                1010      \n",
      "=================================================================\n",
      "Total params: 174,410\n",
      "Trainable params: 172,410\n",
      "Non-trainable params: 2,000\n",
      "_________________________________________________________________\n"
     ]
    }
   ],
   "source": [
    "model.summary()"
   ]
  },
  {
   "cell_type": "code",
   "execution_count": 9,
   "metadata": {
    "collapsed": false
   },
   "outputs": [
    {
     "name": "stdout",
     "output_type": "stream",
     "text": [
      "Train on 55000 samples, validate on 5000 samples\n",
      "Epoch 1/50\n",
      "55000/55000 [==============================] - 18s 324us/sample - loss: 0.7300 - accuracy: 0.7433 - val_loss: 0.4352 - val_accuracy: 0.8448\n",
      "Epoch 2/50\n",
      "55000/55000 [==============================] - 10s 185us/sample - loss: 0.5211 - accuracy: 0.8151 - val_loss: 0.4026 - val_accuracy: 0.8582\n",
      "Epoch 3/50\n",
      "55000/55000 [==============================] - 10s 189us/sample - loss: 0.4654 - accuracy: 0.8351 - val_loss: 0.3789 - val_accuracy: 0.8688\n",
      "Epoch 4/50\n",
      "55000/55000 [==============================] - 11s 192us/sample - loss: 0.4267 - accuracy: 0.8485 - val_loss: 0.3588 - val_accuracy: 0.8752\n",
      "Epoch 5/50\n",
      "55000/55000 [==============================] - 10s 190us/sample - loss: 0.4060 - accuracy: 0.8541 - val_loss: 0.3558 - val_accuracy: 0.8740\n",
      "Epoch 6/50\n",
      "55000/55000 [==============================] - 11s 196us/sample - loss: 0.3842 - accuracy: 0.8639 - val_loss: 0.3491 - val_accuracy: 0.8722\n",
      "Epoch 7/50\n",
      "55000/55000 [==============================] - 11s 207us/sample - loss: 0.3706 - accuracy: 0.8663 - val_loss: 0.3440 - val_accuracy: 0.8768\n",
      "Epoch 8/50\n",
      "55000/55000 [==============================] - 11s 195us/sample - loss: 0.3529 - accuracy: 0.8731 - val_loss: 0.3431 - val_accuracy: 0.8714\n",
      "Epoch 9/50\n",
      "55000/55000 [==============================] - 10s 188us/sample - loss: 0.3438 - accuracy: 0.8763 - val_loss: 0.3352 - val_accuracy: 0.8778\n",
      "Epoch 10/50\n",
      "55000/55000 [==============================] - 11s 192us/sample - loss: 0.3358 - accuracy: 0.8775 - val_loss: 0.3232 - val_accuracy: 0.8850\n",
      "Epoch 11/50\n",
      "55000/55000 [==============================] - 10s 189us/sample - loss: 0.3233 - accuracy: 0.8840 - val_loss: 0.3243 - val_accuracy: 0.8830\n",
      "Epoch 12/50\n",
      "55000/55000 [==============================] - 10s 189us/sample - loss: 0.3177 - accuracy: 0.8849 - val_loss: 0.3219 - val_accuracy: 0.8860\n",
      "Epoch 13/50\n",
      "55000/55000 [==============================] - 11s 193us/sample - loss: 0.3066 - accuracy: 0.8877 - val_loss: 0.3248 - val_accuracy: 0.8818\n",
      "Epoch 14/50\n",
      "55000/55000 [==============================] - 10s 184us/sample - loss: 0.2986 - accuracy: 0.8901 - val_loss: 0.3218 - val_accuracy: 0.8848\n",
      "Epoch 15/50\n",
      "55000/55000 [==============================] - 10s 186us/sample - loss: 0.2940 - accuracy: 0.8941 - val_loss: 0.3377 - val_accuracy: 0.8830\n",
      "Epoch 16/50\n",
      "55000/55000 [==============================] - 10s 181us/sample - loss: 0.2894 - accuracy: 0.8957 - val_loss: 0.3184 - val_accuracy: 0.8860\n",
      "Epoch 17/50\n",
      "55000/55000 [==============================] - 10s 184us/sample - loss: 0.2860 - accuracy: 0.8959 - val_loss: 0.3131 - val_accuracy: 0.8892\n",
      "Epoch 18/50\n",
      "55000/55000 [==============================] - 10s 187us/sample - loss: 0.2774 - accuracy: 0.8994 - val_loss: 0.3129 - val_accuracy: 0.8900\n",
      "Epoch 19/50\n",
      "55000/55000 [==============================] - 10s 189us/sample - loss: 0.2749 - accuracy: 0.8995 - val_loss: 0.3209 - val_accuracy: 0.8892\n",
      "Epoch 20/50\n",
      "55000/55000 [==============================] - 10s 187us/sample - loss: 0.2717 - accuracy: 0.9017 - val_loss: 0.3141 - val_accuracy: 0.8856\n",
      "Epoch 21/50\n",
      "55000/55000 [==============================] - 10s 189us/sample - loss: 0.2622 - accuracy: 0.9039 - val_loss: 0.3155 - val_accuracy: 0.8894\n",
      "Epoch 22/50\n",
      "55000/55000 [==============================] - 11s 191us/sample - loss: 0.2556 - accuracy: 0.9068 - val_loss: 0.3129 - val_accuracy: 0.8912\n"
     ]
    }
   ],
   "source": [
    "# Tensorboard , earlystopping \n",
    "logdir = './bn-callbacks'\n",
    "if not os.path.exists(logdir):\n",
    "    os.mkdir(logdir)\n",
    "\n",
    "output_model_file = os.path.join(logdir,\"fashion_minist_model.h5\")\n",
    "callbacks = [\n",
    "    keras.callbacks.TensorBoard(logdir),\n",
    "    keras.callbacks.ModelCheckpoint(output_model_file,save_best_only=True),\n",
    "    keras.callbacks.EarlyStopping(patience=5, min_delta = 1e-3)\n",
    "]\n",
    "history = model.fit(x_train,y_train,epochs=50,validation_data=(x_vaild,y_vaild),callbacks = callbacks)"
   ]
  },
  {
   "cell_type": "code",
   "execution_count": 10,
   "metadata": {
    "collapsed": false
   },
   "outputs": [
    {
     "data": {
      "image/png": "[encoded data removed]",
      "text/plain": [
       "<Figure size 576x360 with 1 Axes>"
      ]
     },
     "metadata": {
      "needs_background": "light"
     },
     "output_type": "display_data"
    }
   ],
   "source": [
    "def plot_learning_curves(history):\n",
    "    pd.DataFrame(history.history).plot(figsize = (8, 5))\n",
    "    plt.grid(True)\n",
    "    plt.gca().set_ylim(0, 1)\n",
    "    plt.show()\n",
    "    \n",
    "plot_learning_curves(history)"
   ]
  },
  {
   "cell_type": "code",
   "execution_count": null,
   "metadata": {
    "collapsed": true
   },
   "outputs": [],
   "source": []
  }
 ],
 "metadata": {
  "anaconda-cloud": {},
  "kernelspec": {
   "display_name": "Python [conda env:practices]",
   "language": "python",
   "name": "conda-env-practices-py"
  },
  "language_info": {
   "codemirror_mode": {
    "name": "ipython",
    "version": 3
   },
   "file_extension": ".py",
   "mimetype": "text/x-python",
   "name": "python",
   "nbconvert_exporter": "python",
   "pygments_lexer": "ipython3",
   "version": "3.6.2"
  }
 },
 "nbformat": 4,
 "nbformat_minor": 1
}
